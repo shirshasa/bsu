{
 "cells": [
  {
   "cell_type": "code",
   "execution_count": 13,
   "metadata": {},
   "outputs": [],
   "source": [
    "import sys\n",
    "sys.path.append('../')\n",
    "#import primes\n",
    "from matplotlib import pyplot as plt\n",
    "from lab3.sha1 import sha1\n",
    "from lab2.client.crypto import rsa\n",
    "import pickle as pkl\n",
    "from shutil import copyfile\n",
    "import numpy as np\n",
    "\n",
    "p = 47"
   ]
  },
  {
   "cell_type": "markdown",
   "metadata": {},
   "source": [
    "Для заданного M (табл. 1) определить значения a и b,\n",
    "которые позволяют построить эллиптическую группу EM(a, b).\n",
    "\n",
    "Для найденных в задании 3 параметров\n",
    "сгенерировать все элементы эллиптической группы EM(a, b)"
   ]
  },
  {
   "cell_type": "code",
   "execution_count": 14,
   "metadata": {},
   "outputs": [],
   "source": [
    "def test_prime(n):\n",
    "    t = int(np.sqrt(n)) + 1\n",
    "    for i in range(2,t):\n",
    "        if n % i == 0:\n",
    "            return False\n",
    "    return True\n",
    "\n",
    "def gen_a_b():\n",
    "    pairs = []\n",
    "    for i in range(p):\n",
    "        for j in range(p):\n",
    "            if ((4 * (i ** 3) + 27 * (j ** 2))%p != 0): #4a^3 + 27*b^2 != 0\n",
    "                pairs.append((i,j))\n",
    "    return pairs"
   ]
  },
  {
   "cell_type": "code",
   "execution_count": 15,
   "metadata": {},
   "outputs": [
    {
     "name": "stdout",
     "output_type": "stream",
     "text": [
      "A:  11  B:  19\n",
      "[(2, 7), (2, 40), (3, 19), (3, 28), (7, 4), (7, 43), (8, 14), (8, 33), (9, 1), (9, 46), (10, 1), (10, 46), (11, 22), (11, 25), (13, 3), (13, 44), (14, 12), (14, 35), (15, 9), (15, 38), (16, 22), (16, 25), (19, 15), (19, 32), (20, 22), (20, 25), (21, 8), (21, 39), (24, 17), (24, 30), (26, 16), (26, 31), (27, 20), (27, 27), (28, 1), (28, 46), (30, 18), (30, 29), (31, 20), (31, 27), (32, 2), (32, 45), (36, 20), (36, 27), (37, 15), (37, 32), (38, 15), (38, 32), (42, 11), (42, 36), (44, 10), (44, 37), (45, 6), (45, 41), (46, 17), (46, 30)]\n",
      "A:  11  B:  19\n",
      "[(2, 7), (2, 40), (3, 19), (3, 28), (7, 4), (7, 43), (8, 14), (8, 33), (9, 1), (9, 46), (10, 1), (10, 46), (11, 22), (11, 25), (13, 3), (13, 44), (14, 12), (14, 35), (15, 9), (15, 38), (16, 22), (16, 25), (19, 15), (19, 32), (20, 22), (20, 25), (21, 8), (21, 39), (24, 17), (24, 30), (26, 16), (26, 31), (27, 20), (27, 27), (28, 1), (28, 46), (30, 18), (30, 29), (31, 20), (31, 27), (32, 2), (32, 45), (36, 20), (36, 27), (37, 15), (37, 32), (38, 15), (38, 32), (42, 11), (42, 36), (44, 10), (44, 37), (45, 6), (45, 41), (46, 17), (46, 30)]\n"
     ]
    }
   ],
   "source": [
    "ab = gen_a_b()\n",
    "a, b = ab[np.random.randint(0,len(ab))]\n",
    "print('A: ',a,\" B: \",b)\n",
    "\n",
    "t = 2 * np.sqrt(p)\n",
    "roots = {}\n",
    "for i in range(1,p):\n",
    "    t = (i * i) % p\n",
    "    if t not in roots:\n",
    "        roots[t] = [i]\n",
    "    else:\n",
    "        roots[t].append(i)\n",
    "points = []\n",
    "for i in range(p):\n",
    "    t = (i ** 3 + a * i + b)%p\n",
    "    if t in roots:\n",
    "        for s in roots[t]:\n",
    "            points.append((i,s))\n",
    "print((points))"
   ]
  },
  {
   "cell_type": "code",
   "execution_count": 16,
   "metadata": {},
   "outputs": [],
   "source": [
    "def extended_euclidean_algorithm(a, b):\n",
    "    s, old_s = 0, 1\n",
    "    t, old_t = 1, 0\n",
    "    r, old_r = b, a\n",
    "\n",
    "    while r != 0:\n",
    "        quotient = old_r // r\n",
    "        old_r, r = r, old_r - quotient * r\n",
    "        old_s, s = s, old_s - quotient * s\n",
    "        old_t, t = t, old_t - quotient * t\n",
    "\n",
    "    return old_r, old_s, old_t\n",
    "\n",
    "\n",
    "def inverse_of(n, p):\n",
    "    gcd, x, y = extended_euclidean_algorithm(n, p)\n",
    "    assert (n * x + p * y) % p == gcd\n",
    "\n",
    "    if gcd != 1:\n",
    "        # Или n равно 0, или p не является простым.\n",
    "        return None\n",
    "    else:\n",
    "        return x % p\n",
    "    \n",
    "def is_on_curve(point):\n",
    "    if point is None:\n",
    "        return True\n",
    "\n",
    "    x, y = point\n",
    "\n",
    "    return (y * y - x * x * x - a * x - b) % p == 0\n",
    "\n",
    "\n",
    "def point_neg(point):\n",
    "    assert is_on_curve(point)\n",
    "\n",
    "    if point is None:\n",
    "        return None\n",
    "\n",
    "    x, y = point\n",
    "    result = (x, -y % p)\n",
    "\n",
    "    assert is_on_curve(result)\n",
    "    return result\n",
    "\n",
    "\n",
    "def point_add(point1, point2):\n",
    "    assert is_on_curve(point1)\n",
    "    assert is_on_curve(point2)\n",
    "\n",
    "    if point1 is None:\n",
    "        return point2\n",
    "    if point2 is None:\n",
    "        return point1\n",
    "\n",
    "    x1, y1 = point1\n",
    "    x2, y2 = point2\n",
    "\n",
    "    if x1 == x2 and y1 != y2:\n",
    "        return None\n",
    "\n",
    "    if x1 == x2:\n",
    "        m = (3 * x1 * x1 + a) * inverse_of(2 * y1, p)\n",
    "    else:\n",
    "        # This is the case point1 != point2.\n",
    "        m = (y1 - y2) * inverse_of(x1 - x2, p)\n",
    "\n",
    "    x3 = m * m - x1 - x2\n",
    "    y3 = y1 + m * (x3 - x1)\n",
    "    result = (x3 % p,-y3 % p)\n",
    "\n",
    "    assert is_on_curve(result)\n",
    "\n",
    "    return result\n",
    "\n",
    "\n",
    "def scalar_mult(k, point):\n",
    "    assert is_on_curve(point)\n",
    "\n",
    "    if k % p == 0 or point is None:\n",
    "        return None\n",
    "\n",
    "    if k < 0:\n",
    "        return scalar_mult(-k, point_neg(point))\n",
    "\n",
    "    result = None\n",
    "    addend = point\n",
    "\n",
    "    while k:\n",
    "        if k & 1:\n",
    "            # Add.\n",
    "            result = point_add(result, addend)\n",
    "\n",
    "        # Double.\n",
    "        addend = point_add(addend, addend)\n",
    "        k >>= 1\n",
    "    assert is_on_curve(result)\n",
    "    return result\n",
    "\n",
    "def to_byte_list(data):\n",
    "    return list(bytearray(data, encoding='utf-8'))\n",
    "\n",
    "def binary_array_to_str(binary_array):\n",
    "\n",
    "    c_array = [str(elem) for elem in binary_array]\n",
    "    res = ''.join(c_array)\n",
    "    return res\n",
    "\n"
   ]
  },
  {
   "cell_type": "markdown",
   "metadata": {},
   "source": [
    "Реализовать алгоритм обмена ключами для эллиптической группы EM(a,b).\n",
    "\n",
    "Разработать алгоритм цифровой подписи на основе эллиптической группы EM(a, b)."
   ]
  },
  {
   "cell_type": "markdown",
   "metadata": {},
   "source": [
    "1. чекаем порядок точки. выбираем наибольший "
   ]
  },
  {
   "cell_type": "code",
   "execution_count": 17,
   "metadata": {},
   "outputs": [
    {
     "name": "stdout",
     "output_type": "stream",
     "text": [
      "(9, 1) 19\n",
      "(9, 1) 19\n"
     ]
    }
   ],
   "source": [
    "G = None\n",
    "maxk = 2\n",
    "for pt in points:\n",
    "    k = 1\n",
    "    temp = pt\n",
    "    while temp is not None:\n",
    "        k += 1\n",
    "        temp = point_add(temp,pt)\n",
    "    if (k > maxk and test_prime(k)):\n",
    "        G = pt\n",
    "        maxk = k\n",
    "print(G,maxk)"
   ]
  },
  {
   "cell_type": "markdown",
   "metadata": {},
   "source": [
    "2. "
   ]
  },
  {
   "cell_type": "code",
   "execution_count": 18,
   "metadata": {},
   "outputs": [],
   "source": [
    "d = np.random.randint(1,maxk)\n",
    "H = scalar_mult(d,G)"
   ]
  },
  {
   "cell_type": "code",
   "execution_count": 19,
   "metadata": {},
   "outputs": [
    {
     "name": "stdout",
     "output_type": "stream",
     "text": [
      "p  47\n",
      "a  11\n",
      "b  19\n",
      "G  (9, 1)\n",
      "n  19\n",
      "H  (9, 1)\n",
      "p  47\n",
      "a  11\n",
      "b  19\n",
      "G  (9, 1)\n",
      "n  19\n",
      "H  (9, 1)\n"
     ]
    }
   ],
   "source": [
    "print('p ',p)\n",
    "print('a ',a)\n",
    "print('b ',b)\n",
    "print('G ',G)\n",
    "print('n ',maxk)\n",
    "print('H ',H)"
   ]
  },
  {
   "cell_type": "markdown",
   "metadata": {},
   "source": [
    "Цифровая подпись на эллиптических кривых"
   ]
  },
  {
   "cell_type": "code",
   "execution_count": 20,
   "metadata": {},
   "outputs": [],
   "source": [
    "def sign(hsh):\n",
    "    z = hsh % maxk\n",
    "    r = 0\n",
    "    s = 0\n",
    "\n",
    "    while s == 0:\n",
    "        while r == 0:\n",
    "            k = np.random.randint(1,maxk)\n",
    "            P = scalar_mult(k,G)\n",
    "            r = P[0] % maxk\n",
    "        s = (inverse_of(k,maxk) * (z + r * d)) % maxk\n",
    "    return (r,s)\n",
    "\n",
    "def check_sign(hsh,sgn):\n",
    "    r,s = sgn\n",
    "    z = hsh % maxk\n",
    "    u1 = (inverse_of(s,maxk) * z) % maxk\n",
    "    u2 = (inverse_of(s,maxk) * r) % maxk\n",
    "    P = point_add(scalar_mult(u1,G),scalar_mult(u2,H))\n",
    "    return r == P[0] % maxk"
   ]
  },
  {
   "cell_type": "markdown",
   "metadata": {},
   "source": [
    "### User A"
   ]
  },
  {
   "cell_type": "code",
   "execution_count": 21,
   "metadata": {},
   "outputs": [],
   "source": [
    "text = ''\n",
    "for i in open(\"f1.txt\"):\n",
    "    text += i\n",
    "\n",
    "msg = bytes(text,'utf-8')\n",
    "\n",
    "\n",
    "hash_msg = to_byte_list(sha1(bytes(msg)))\n",
    "hash_ = int(binary_array_to_str(hash_msg))\n"
   ]
  },
  {
   "cell_type": "code",
   "execution_count": 22,
   "metadata": {},
   "outputs": [
    {
     "data": {
      "text/plain": [
       "b'Non-motivated functions\\nThe non-motivated purposes of art are those that are integral to being human'"
      ]
     },
     "execution_count": 22,
     "metadata": {},
     "output_type": "execute_result"
    },
    {
     "data": {
      "text/plain": [
       "b'Non-motivated functions\\nThe non-motivated purposes of art are those that are integral to being human'"
      ]
     },
     "execution_count": 22,
     "metadata": {},
     "output_type": "execute_result"
    }
   ],
   "source": [
    "msg"
   ]
  },
  {
   "cell_type": "code",
   "execution_count": 29,
   "metadata": {
    "scrolled": true
   },
   "outputs": [
    {
     "data": {
      "text/plain": [
       "[b'Non-motivated functions\\nThe non-motivated purposes of art are those that are integral to being human',\n",
       " (7, 4)]"
      ]
     },
     "execution_count": 29,
     "metadata": {},
     "output_type": "execute_result"
    },
    {
     "data": {
      "text/plain": [
       "[b'Non-motivated functions\\nThe non-motivated purposes of art are those that are integral to being human',\n",
       " (7, 4)]"
      ]
     },
     "execution_count": 29,
     "metadata": {},
     "output_type": "execute_result"
    }
   ],
   "source": [
    "msg_to_send = [msg ,sign(hash_)]\n",
    "msg_to_send[0], msg_to_send[1][0]\n",
    "msg_to_send = [msg_to_send[0], (msg_to_send[1][0], msg_to_send[1][1]+1)]\n",
    "msg_to_send"
   ]
  },
  {
   "cell_type": "markdown",
   "metadata": {},
   "source": [
    "### User B"
   ]
  },
  {
   "cell_type": "code",
   "execution_count": 30,
   "metadata": {},
   "outputs": [
    {
     "data": {
      "text/plain": [
       "False"
      ]
     },
     "execution_count": 30,
     "metadata": {},
     "output_type": "execute_result"
    },
    {
     "data": {
      "text/plain": [
       "False"
      ]
     },
     "execution_count": 30,
     "metadata": {},
     "output_type": "execute_result"
    }
   ],
   "source": [
    "x = to_byte_list(sha1(msg_to_send[0]))\n",
    "hash_ = int(binary_array_to_str(x))\n",
    "check_sign(hash_,msg_to_send[1])"
   ]
  },
  {
   "cell_type": "code",
   "execution_count": null,
   "metadata": {},
   "outputs": [],
   "source": []
  }
 ],
 "metadata": {
  "kernelspec": {
   "display_name": "Python 3",
   "language": "python",
   "name": "python3"
  },
  "language_info": {
   "codemirror_mode": {
    "name": "ipython",
    "version": 3
   },
   "file_extension": ".py",
   "mimetype": "text/x-python",
   "name": "python",
   "nbconvert_exporter": "python",
   "pygments_lexer": "ipython3",
   "version": "3.6.5"
  }
 },
 "nbformat": 4,
 "nbformat_minor": 2
}
