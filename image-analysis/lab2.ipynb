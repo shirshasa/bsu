{
 "cells": [
  {
   "cell_type": "markdown",
   "metadata": {},
   "source": [
    "## lab 2 \n",
    "Разработка программы построения морфологического скелета изображения и восстановления изображения по морфологическому скелету для бинарных изображений и различных структурирующих элементов."
   ]
  },
  {
   "cell_type": "code",
   "execution_count": 736,
   "metadata": {},
   "outputs": [
    {
     "data": {
      "image/png": "[encoded data removed]",
      "text/plain": [
       "<Figure size 432x288 with 1 Axes>"
      ]
     },
     "metadata": {},
     "output_type": "display_data"
    }
   ],
   "source": [
    "from skimage.util import img_as_ubyte\n",
    "from skimage import io\n",
    "from skimage.morphology import erosion, dilation\n",
    "from PIL import Image\n",
    "\n",
    "import numpy as np\n",
    "\n",
    "\n",
    "\n",
    "Image.open(\"i3.jpg\").convert('1').save('i3.png')\n",
    "binaryImage = img_as_ubyte(io.imread(\"i3.png\", as_binary = True))\n",
    "\n",
    "\n",
    "plt.imshow(binaryImage, cmap=cm.binary)\n",
    "plt.show()"
   ]
  },
  {
   "cell_type": "code",
   "execution_count": 617,
   "metadata": {},
   "outputs": [],
   "source": [
    "\n",
    "square = np.array(\n",
    "       [[1, 1, 1],\n",
    "        [1, 1, 1],\n",
    "        [1, 1, 1]], dtype=np.uint8)\n",
    "\n",
    "\n",
    "cross = np.array(\n",
    "        [[0, 0, 1, 0, 0],\n",
    "         [0, 0, 1, 0, 0],\n",
    "         [1, 1, 1, 1, 1],\n",
    "         [0, 0, 1, 0, 0],\n",
    "         [0, 0, 1, 0, 0]\n",
    "        ], dtype=np.uint8\n",
    ")\n",
    "\n",
    "diamond = np.array(\n",
    "       [[0, 1, 0],\n",
    "        [1, 1, 1],\n",
    "        [0, 1, 0]], dtype=np.uint8)"
   ]
  },
  {
   "cell_type": "code",
   "execution_count": 536,
   "metadata": {},
   "outputs": [],
   "source": [
    "\n",
    "\n",
    "def isEmpty(array):\n",
    "    for i in range(0, len(array)):\n",
    "        for j in range(0, len(array[i])):\n",
    "            if array[i][j] == 255:\n",
    "                return False\n",
    "    return True\n",
    "\n",
    "def substract(a, b):\n",
    "    c = np.empty((len(a), len(a[0])))\n",
    "    for i in range(0, len(a)):\n",
    "        for j in range(0, len(a[i])):\n",
    "            c[i][j] = a[i][j] - b[i][j]\n",
    "    return c\n",
    "\n",
    "def add(a, b):\n",
    "    for i in range(0, len(a)):\n",
    "        for j in range(0, len(a[i])):\n",
    "            if b[i][j] == 255:\n",
    "                a[i][j] = 255"
   ]
  },
  {
   "cell_type": "markdown",
   "metadata": {},
   "source": [
    "## Построение скелета"
   ]
  },
  {
   "cell_type": "code",
   "execution_count": 737,
   "metadata": {},
   "outputs": [],
   "source": [
    "def get_skeleton_set(ans, n, image, element):\n",
    "    n = 0\n",
    "    while True:\n",
    "        ans.append(np.empty((len(binaryImage), len(binaryImage[0]))))\n",
    "        erosed = erosion(image, element)\n",
    "        if isEmpty(erosed):\n",
    "            ans[n] = image\n",
    "            break\n",
    "        else:\n",
    "            dilated = dilation(erosed, element)\n",
    "            ans[n] = substract(image, dilated)\n",
    "            n += 1\n",
    "            image = erosed\n",
    "        \n",
    "def build_skeleton(image, element, element_name, show_proc = False):\n",
    "    skeleton = []\n",
    "    get_skeleton_set(skeleton, 0, image, element)\n",
    "    if show_proc:\n",
    "        plot_process(skeleton)\n",
    "    plot_diff(image, skeleton, element_name )\n",
    "    return skeleton"
   ]
  },
  {
   "cell_type": "markdown",
   "metadata": {},
   "source": [
    "## Восстановление изображения"
   ]
  },
  {
   "cell_type": "code",
   "execution_count": 723,
   "metadata": {},
   "outputs": [],
   "source": [
    "def reconstruction(reconstr, element, skeleton, n):\n",
    "    add(reconstr, skeleton[n])\n",
    "    if n == 0:\n",
    "        return reconstr\n",
    "    else:\n",
    "        reconstr = dilation(reconstr, element)\n",
    "        return reconstruction(reconstr, element, skeleton, n - 1)\n",
    "    \n",
    "def build_reconstruction(skeleton, element,element_name):\n",
    "    reconstr = np.empty((len(binaryImage), len(binaryImage[0])))\n",
    "    plot_reconstruction(\n",
    "        skeleton, \n",
    "        reconstruction(reconstr, element, skeleton, len(skeleton) - 1), \n",
    "        element_name\n",
    "    )"
   ]
  },
  {
   "cell_type": "code",
   "execution_count": 724,
   "metadata": {},
   "outputs": [],
   "source": [
    "import matplotlib.pyplot as plt\n",
    "\n",
    "def plot_process(skeleton):\n",
    "    result = np.empty((len(binaryImage), len(binaryImage[0])))\n",
    "    result.fill(0)\n",
    "    i = 0\n",
    "    for sklt in skeleton:\n",
    "        add(result, sklt)\n",
    "        _, ax = plt.subplots(ncols = 1, figsize = (5, 3), sharex = True, sharey = True)\n",
    "        drawSubplot(ax, sklt, 'skeleton '+ str(i))\n",
    "        i += 1\n",
    "           \n",
    "def plot_diff(origin, skeleton, structuredElementName):\n",
    "    result = np.empty((len(binaryImage), len(binaryImage[0])))\n",
    "    result.fill(0)\n",
    "    for sklt in skeleton:\n",
    "        add(result, sklt)   \n",
    "    compare(origin, result, \"skeletonize with \" + structuredElementName)\n",
    "    \n",
    "    \n",
    "    \n",
    "def plot_reconstruction(skeleton, reconstructioned, structuredElementName):\n",
    "    result = np.empty((len(binaryImage), len(binaryImage[0])))\n",
    "    result.fill(0)\n",
    "    for sklt in skeleton:\n",
    "        add(result, sklt)\n",
    "    compare(result, reconstructioned, \"reconstructioned by \" + structuredElementName)\n",
    "\n",
    "def compare(origin, filtered, filterName):\n",
    "    _, (ax1, ax2) = plt.subplots(ncols = 2, figsize = (12, 6), sharex = True, sharey = True)\n",
    "    drawSubplot(ax1, origin, 'origin')\n",
    "    drawSubplot(ax2, filtered, filterName)\n",
    "    \n",
    "def drawSubplot(ax, image, text):\n",
    "    ax.imshow(image, plt.cm.gray)\n",
    "    ax.set_title(text)\n",
    "    ax.axis('off')"
   ]
  },
  {
   "cell_type": "code",
   "execution_count": 730,
   "metadata": {
    "scrolled": false
   },
   "outputs": [
    {
     "data": {
      "image/png": "[encoded data removed]",
      "text/plain": [
       "<Figure size 360x216 with 1 Axes>"
      ]
     },
     "metadata": {},
     "output_type": "display_data"
    },
    {
     "data": {
      "image/png": "[encoded data removed]",
      "text/plain": [
       "<Figure size 360x216 with 1 Axes>"
      ]
     },
     "metadata": {},
     "output_type": "display_data"
    },
    {
     "data": {
      "image/png": "[encoded data removed]",
      "text/plain": [
       "<Figure size 360x216 with 1 Axes>"
      ]
     },
     "metadata": {},
     "output_type": "display_data"
    },
    {
     "data": {
      "image/png": "[encoded data removed]",
      "text/plain": [
       "<Figure size 360x216 with 1 Axes>"
      ]
     },
     "metadata": {},
     "output_type": "display_data"
    },
    {
     "data": {
      "image/png": "[encoded data removed]",
      "text/plain": [
       "<Figure size 360x216 with 1 Axes>"
      ]
     },
     "metadata": {},
     "output_type": "display_data"
    },
    {
     "data": {
      "image/png": "[encoded data removed]",
      "text/plain": [
       "<Figure size 360x216 with 1 Axes>"
      ]
     },
     "metadata": {},
     "output_type": "display_data"
    },
    {
     "data": {
      "image/png": "[encoded data removed]",
      "text/plain": [
       "<Figure size 360x216 with 1 Axes>"
      ]
     },
     "metadata": {},
     "output_type": "display_data"
    },
    {
     "data": {
      "image/png": "[encoded data removed]",
      "text/plain": [
       "<Figure size 360x216 with 1 Axes>"
      ]
     },
     "metadata": {},
     "output_type": "display_data"
    },
    {
     "data": {
      "image/png": "[encoded data removed]",
      "text/plain": [
       "<Figure size 864x432 with 2 Axes>"
      ]
     },
     "metadata": {},
     "output_type": "display_data"
    }
   ],
   "source": [
    "skeleton1 = build_skeleton(binaryImage, square, \"square\", show_proc = True)"
   ]
  },
  {
   "cell_type": "code",
   "execution_count": 726,
   "metadata": {
    "scrolled": false
   },
   "outputs": [
    {
     "data": {
      "image/png": "[encoded data removed]",
      "text/plain": [
       "<Figure size 864x432 with 2 Axes>"
      ]
     },
     "metadata": {},
     "output_type": "display_data"
    }
   ],
   "source": [
    "build_reconstruction(skeleton1, square, \"square\")"
   ]
  },
  {
   "cell_type": "code",
   "execution_count": 727,
   "metadata": {
    "scrolled": false
   },
   "outputs": [
    {
     "data": {
      "image/png": "[encoded data removed]",
      "text/plain": [
       "<Figure size 864x432 with 2 Axes>"
      ]
     },
     "metadata": {},
     "output_type": "display_data"
    }
   ],
   "source": [
    "skeleton2 = build_skeleton(binaryImage, diamond, \"diamond\")"
   ]
  },
  {
   "cell_type": "code",
   "execution_count": 728,
   "metadata": {
    "scrolled": false
   },
   "outputs": [
    {
     "data": {
      "image/png": "[encoded data removed]",
      "text/plain": [
       "<Figure size 864x432 with 2 Axes>"
      ]
     },
     "metadata": {},
     "output_type": "display_data"
    }
   ],
   "source": [
    "build_reconstruction(skeleton2, diamond, \"diamond\")"
   ]
  },
  {
   "cell_type": "code",
   "execution_count": 734,
   "metadata": {},
   "outputs": [
    {
     "data": {
      "image/png": "[encoded data removed]",
      "text/plain": [
       "<Figure size 864x432 with 2 Axes>"
      ]
     },
     "metadata": {},
     "output_type": "display_data"
    }
   ],
   "source": [
    "skeleton3 = build_skeleton(binaryImage, cross, \"cross\")\n"
   ]
  },
  {
   "cell_type": "code",
   "execution_count": 735,
   "metadata": {},
   "outputs": [
    {
     "data": {
      "image/png": "[encoded data removed]",
      "text/plain": [
       "<Figure size 864x432 with 2 Axes>"
      ]
     },
     "metadata": {},
     "output_type": "display_data"
    }
   ],
   "source": [
    "build_reconstruction(skeleton3, cross, \"cross\")"
   ]
  },
  {
   "cell_type": "markdown",
   "metadata": {},
   "source": [
    "## Используя skimage"
   ]
  },
  {
   "cell_type": "code",
   "execution_count": 544,
   "metadata": {},
   "outputs": [
    {
     "data": {
      "image/png": "[encoded data removed]",
      "text/plain": [
       "<Figure size 576x288 with 2 Axes>"
      ]
     },
     "metadata": {},
     "output_type": "display_data"
    }
   ],
   "source": [
    "from skimage.morphology import skeletonize\n",
    "from skimage import data\n",
    "import matplotlib.pyplot as plt\n",
    "from skimage.util import invert\n",
    "\n",
    "# Invert the horse image\n",
    "image = binaryImage > 0\n",
    "\n",
    "# perform skeletonization\n",
    "skeleton = skeletonize(image)\n",
    "\n",
    "# display results\n",
    "fig, axes = plt.subplots(nrows=1, ncols=2, figsize=(8, 4),\n",
    "                         sharex=True, sharey=True)\n",
    "\n",
    "ax = axes.ravel()\n",
    "\n",
    "ax[0].imshow(image, cmap=plt.cm.gray)\n",
    "ax[0].axis('off')\n",
    "ax[0].set_title('original', fontsize=20)\n",
    "\n",
    "ax[1].imshow(skeleton, cmap=plt.cm.gray)\n",
    "ax[1].axis('off')\n",
    "ax[1].set_title('skeleton', fontsize=20)\n",
    "\n",
    "fig.tight_layout()\n",
    "plt.show()"
   ]
  },
  {
   "cell_type": "code",
   "execution_count": null,
   "metadata": {},
   "outputs": [],
   "source": []
  }
 ],
 "metadata": {
  "kernelspec": {
   "display_name": "Python 3",
   "language": "python",
   "name": "python3"
  },
  "language_info": {
   "codemirror_mode": {
    "name": "ipython",
    "version": 3
   },
   "file_extension": ".py",
   "mimetype": "text/x-python",
   "name": "python",
   "nbconvert_exporter": "python",
   "pygments_lexer": "ipython3",
   "version": "3.6.5"
  }
 },
 "nbformat": 4,
 "nbformat_minor": 2
}
