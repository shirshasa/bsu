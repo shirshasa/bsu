{
 "cells": [
  {
   "cell_type": "code",
   "execution_count": 72,
   "metadata": {},
   "outputs": [],
   "source": [
    "import skimage\n",
    "from skimage import morphology as mph\n",
    "from skimage import io\n",
    "\n",
    "from matplotlib import pyplot as plt\n",
    "import numpy as np\n",
    "from skimage.util import img_as_ubyte"
   ]
  },
  {
   "cell_type": "code",
   "execution_count": 78,
   "metadata": {},
   "outputs": [],
   "source": [
    "path_bin_image = 'i3.png'\n",
    "image = img_as_ubyte(io.imread(\"i3.png\", as_binary = True))\n"
   ]
  },
  {
   "cell_type": "markdown",
   "metadata": {},
   "source": [
    "###  Структурирующие элементы, использующиеся в алгоритме построения  оболочки множества ."
   ]
  },
  {
   "cell_type": "code",
   "execution_count": 36,
   "metadata": {},
   "outputs": [],
   "source": [
    "s1 = [\n",
    "    [1,1,1],\n",
    "    [0,0,1],\n",
    "    [0,0,0]\n",
    "]\n",
    "s2 = [\n",
    "    [0,0,0],\n",
    "    [0,1,0],\n",
    "    [0,0,0]\n",
    "]\n",
    "s1 = np.array(s1,dtype=np.uint8)\n",
    "s2 = np.array(s2,dtype=np.uint8)\n",
    "\n",
    "structs2 = []\n",
    "for i in range(4):\n",
    "    structs2.append((s1,s2))\n",
    "    s1 = np.rot90(s1)\n",
    "    s2 = np.rot90(s2)\n",
    "    \n",
    "s1 = [\n",
    "    [1,1,1],\n",
    "    [1,0,0],\n",
    "    [0,0,0]\n",
    "]\n",
    "s2 = [\n",
    "    [0,0,0],\n",
    "    [0,1,0],\n",
    "    [0,0,0]\n",
    "]\n",
    "s1 = np.array(s1,dtype=np.uint8)\n",
    "s2 = np.array(s2,dtype=np.uint8)\n",
    "\n",
    "\n",
    "for i in range(4):\n",
    "    structs2.append((s1,s2))\n",
    "    s1 = np.rot90(s1)\n",
    "    s2 = np.rot90(s2)"
   ]
  },
  {
   "cell_type": "markdown",
   "metadata": {},
   "source": [
    "###  Структурирующие элементы, использующиеся в алгоритме построения скелета"
   ]
  },
  {
   "cell_type": "code",
   "execution_count": null,
   "metadata": {},
   "outputs": [],
   "source": [
    "s1 = [\n",
    "    [1,1,1],\n",
    "    [0,1,0],\n",
    "    [0,0,0]\n",
    "]\n",
    "s2 = [\n",
    "    [0,0,0],\n",
    "    [0,0,0],\n",
    "    [1,1,1]\n",
    "]\n",
    "s1 = np.array(s1,dtype=np.uint8)\n",
    "s2 = np.array(s2,dtype=np.uint8)\n",
    "\n",
    "structs = []\n",
    "for i in range(4):\n",
    "    structs.append((s1,s2))\n",
    "    s1 = np.rot90(s1)\n",
    "    s2 = np.rot90(s2)\n",
    "    \n",
    "s1 = [\n",
    "    [0,1,0],\n",
    "    [0,1,1],\n",
    "    [0,0,0]\n",
    "]\n",
    "s2 = [\n",
    "    [0,0,0],\n",
    "    [1,0,0],\n",
    "    [1,1,0]\n",
    "]\n",
    "s1 = np.array(s1,dtype=np.uint8)\n",
    "s2 = np.array(s2,dtype=np.uint8)\n",
    "\n",
    "\n",
    "for i in range(4):\n",
    "    structs.append((s1,s2))\n",
    "    s1 = np.rot90(s1)\n",
    "    s2 = np.rot90(s2)"
   ]
  },
  {
   "cell_type": "markdown",
   "metadata": {},
   "source": [
    "## Операции утолщение и утоньшение\n"
   ]
  },
  {
   "cell_type": "code",
   "execution_count": 59,
   "metadata": {},
   "outputs": [],
   "source": [
    "def hitmiss(img,struct1,struct2):\n",
    "    eroded = mph.erosion(img,struct1)\n",
    "    rev = 255 - img\n",
    "    return eroded & mph.erosion(rev,struct2)\n",
    "\n",
    "def thinning(img):\n",
    "    temp = img\n",
    "    for s1,s2 in structs:\n",
    "        temp -= hitmiss(temp,s1,s2)\n",
    "        \n",
    "    return temp\n",
    "\n",
    "def thickening(img):\n",
    "    temp = img\n",
    "    for s1,s2 in structs2:\n",
    "        temp |= hitmiss(temp,s1,s2)\n",
    "    return temp"
   ]
  },
  {
   "cell_type": "markdown",
   "metadata": {},
   "source": [
    "## Скелет"
   ]
  },
  {
   "cell_type": "code",
   "execution_count": 105,
   "metadata": {},
   "outputs": [
    {
     "data": {
      "image/png": "[encoded data removed]",
      "text/plain": [
       "<Figure size 216x144 with 1 Axes>"
      ]
     },
     "metadata": {},
     "output_type": "display_data"
    },
    {
     "data": {
      "image/png": "[encoded data removed]",
      "text/plain": [
       "<Figure size 216x144 with 1 Axes>"
      ]
     },
     "metadata": {},
     "output_type": "display_data"
    },
    {
     "data": {
      "image/png": "[encoded data removed]",
      "text/plain": [
       "<Figure size 216x144 with 1 Axes>"
      ]
     },
     "metadata": {},
     "output_type": "display_data"
    }
   ],
   "source": [
    "\n",
    "res = np.array(image)\n",
    "n = 0\n",
    "temp = []\n",
    "temp_res = np.zeros(image.shape)\n",
    "while np.count_nonzero(temp_res - res) > 0:\n",
    "    temp_res = np.array(res)\n",
    "    res = thinning(res)\n",
    "    if n % 4 == 0:\n",
    "        plt.figure(figsize=(3, 2))\n",
    "        plt.imshow(res)\n",
    "        plt.show()\n",
    "    temp.append(temp_res)\n",
    "    n+=1"
   ]
  },
  {
   "cell_type": "code",
   "execution_count": 106,
   "metadata": {},
   "outputs": [
    {
     "data": {
      "image/png": "[encoded data removed]",
      "text/plain": [
       "<Figure size 720x432 with 2 Axes>"
      ]
     },
     "metadata": {},
     "output_type": "display_data"
    }
   ],
   "source": [
    "plt.figure(figsize=(10, 6))\n",
    "plt.subplot(221)\n",
    "plt.imshow(image, cmap=cm.binary)\n",
    "plt.subplot(222)\n",
    "plt.imshow(res, cmap=cm.binary)\n",
    "\n",
    "plt.show()"
   ]
  },
  {
   "cell_type": "markdown",
   "metadata": {},
   "source": [
    "## Выпуклая оболочка"
   ]
  },
  {
   "cell_type": "code",
   "execution_count": 95,
   "metadata": {
    "scrolled": false
   },
   "outputs": [
    {
     "data": {
      "image/png": "[encoded data removed]",
      "text/plain": [
       "<Figure size 216x144 with 1 Axes>"
      ]
     },
     "metadata": {},
     "output_type": "display_data"
    },
    {
     "data": {
      "image/png": "[encoded data removed]",
      "text/plain": [
       "<Figure size 216x144 with 1 Axes>"
      ]
     },
     "metadata": {},
     "output_type": "display_data"
    },
    {
     "data": {
      "image/png": "[encoded data removed]",
      "text/plain": [
       "<Figure size 216x144 with 1 Axes>"
      ]
     },
     "metadata": {},
     "output_type": "display_data"
    }
   ],
   "source": [
    "\n",
    "res = np.array(image)\n",
    "n = 0\n",
    "temp = []\n",
    "temp_res = np.zeros(image.shape)\n",
    "while np.count_nonzero(temp_res - res) > 0:\n",
    "    temp_res = np.array(res)\n",
    "    res = thickening(res)\n",
    "    if n % 20 == 0:\n",
    "        plt.figure(figsize=(3, 2))\n",
    "        plt.imshow(res)\n",
    "        plt.show()\n",
    "    temp.append(temp_res)\n",
    "    n+=1"
   ]
  },
  {
   "cell_type": "code",
   "execution_count": 102,
   "metadata": {},
   "outputs": [
    {
     "data": {
      "image/png": "[encoded data removed]",
      "text/plain": [
       "<Figure size 720x432 with 2 Axes>"
      ]
     },
     "metadata": {},
     "output_type": "display_data"
    }
   ],
   "source": [
    "plt.figure(figsize=(10, 6))\n",
    "plt.subplot(221)\n",
    "plt.imshow(image, cmap=cm.binary)\n",
    "plt.subplot(222)\n",
    "plt.imshow(res, cmap=cm.binary)\n",
    "\n",
    "plt.show()"
   ]
  },
  {
   "cell_type": "code",
   "execution_count": null,
   "metadata": {},
   "outputs": [],
   "source": []
  }
 ],
 "metadata": {
  "kernelspec": {
   "display_name": "Python 3",
   "language": "python",
   "name": "python3"
  },
  "language_info": {
   "codemirror_mode": {
    "name": "ipython",
    "version": 3
   },
   "file_extension": ".py",
   "mimetype": "text/x-python",
   "name": "python",
   "nbconvert_exporter": "python",
   "pygments_lexer": "ipython3",
   "version": "3.6.5"
  }
 },
 "nbformat": 4,
 "nbformat_minor": 2
}
