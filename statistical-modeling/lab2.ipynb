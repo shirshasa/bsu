{
 "cells": [
  {
   "cell_type": "markdown",
   "metadata": {},
   "source": [
    "## lab2\n",
    "## task\n",
    "\n",
    "- Осуществить моделирование n = 1000 реализаций СВ из заданных дискретных распределений.\n",
    "- Вывести на экран несмещенные оценки математического ожидания и дисперсии, сравнить их с истинными значениями.\n",
    "- Для каждой из случайных величин построить свой χ^2-критерием Пирсона с уровнем значимость ε=0.05. Проверить, что вероятность ошибки I рода стремится к 0.05.\n",
    "- Осуществить проверку каждой из сгенерированных выборок каждым из построенных критериев.\n",
    "\n",
    "https://ru.wikipedia.org/wiki/%D0%93%D0%B8%D0%BF%D0%B5%D1%80%D0%B3%D0%B5%D0%BE%D0%BC%D0%B5%D1%82%D1%80%D0%B8%D1%87%D0%B5%D1%81%D0%BA%D0%BE%D0%B5_%D1%80%D0%B0%D1%81%D0%BF%D1%80%D0%B5%D0%B4%D0%B5%D0%BB%D0%B5%D0%BD%D0%B8%D0%B5"
   ]
  },
  {
   "cell_type": "code",
   "execution_count": 1,
   "metadata": {},
   "outputs": [
    {
     "name": "stdout",
     "output_type": "stream",
     "text": [
      "Populating the interactive namespace from numpy and matplotlib\n"
     ]
    }
   ],
   "source": [
    "%pylab inline\n"
   ]
  },
  {
   "cell_type": "code",
   "execution_count": 2,
   "metadata": {},
   "outputs": [],
   "source": [
    "import numpy as np\n",
    "import matplotlib\n",
    "import matplotlib.pyplot as plt\n",
    "%matplotlib inline  \n",
    "import pandas as pd\n",
    "\n",
    "\n",
    "kwargs = dict(histtype='stepfilled', alpha=0.3, normed=True, bins=40)\n",
    "\n",
    "def draw(real,theory):\n",
    "    plt.figure(figsize=(5,3))\n",
    "    \n",
    "    plt.hist(x=real, label='real', bins=100  , color='blue',alpha=0.4, rwidth=2)\n",
    "    x = [elem*tryings for elem in theory]\n",
    "    plt.plot(x,label='theory', color='pink',alpha=0.99,  linewidth=5, markersize=12)\n",
    "    plt.xlabel('x', fontsize=10)\n",
    "    plt.ylabel('frequency', fontsize=10)\n",
    "    plt.text(2, 4, r'...')\n",
    "    plt.legend()\n",
    "    plt.show()"
   ]
  },
  {
   "cell_type": "markdown",
   "metadata": {},
   "source": [
    "## Теоритеческое распределение"
   ]
  },
  {
   "cell_type": "code",
   "execution_count": 3,
   "metadata": {},
   "outputs": [],
   "source": [
    "def C_(n, k):\n",
    "    return factorial(n) / (factorial(k) * factorial(n - k))\n",
    "\n",
    "def hyper_geom_distribution(D, N, n, k):\n",
    "    return C_(D, k) * C_(N - D, n - k) / C_(N, n)\n",
    "\n",
    "\n",
    "def hyper_geom_list(D, N, n):\n",
    "    p = [hyper_geom_distribution(D, N, n, i) for i in range(max(0, D + n - N), min(n, D))]\n",
    "\n",
    "    keys = [elem for elem in range(max(0, D + n - N), min(n, D))]\n",
    "\n",
    "    return dict(zip(keys,p))"
   ]
  },
  {
   "cell_type": "markdown",
   "metadata": {},
   "source": [
    "## Несмещенные оценки"
   ]
  },
  {
   "cell_type": "code",
   "execution_count": 4,
   "metadata": {},
   "outputs": [],
   "source": [
    "def bias_mean(x):\n",
    "    return sum(x)/len(x)\n",
    "    \n",
    "def bias_var(x):\n",
    "    bias_m = bias_mean(x)\n",
    "    sum_=0\n",
    "    for elem in x:\n",
    "        sum_ += (elem - bias_m )**2\n",
    "    return sum_/ (len(x)-1)\n"
   ]
  },
  {
   "cell_type": "markdown",
   "metadata": {},
   "source": [
    "## Генерация с random"
   ]
  },
  {
   "cell_type": "code",
   "execution_count": 5,
   "metadata": {},
   "outputs": [],
   "source": [
    "from random import random\n",
    "from math import exp, factorial\n",
    "\n",
    "def bernoulli(p):\n",
    "    boundary = 1-p\n",
    "    return random() > boundary\n",
    "\n",
    "\n",
    "def hyper_geom(k,N, n):\n",
    "    # N всего\n",
    "    # n вытянутых\n",
    "    # k белых   \n",
    "    # sum_ количество вытянутых белых шаров\n",
    "    sum_ = 0\n",
    "    p = k/N\n",
    "\n",
    "    for i in range(1, n+1):\n",
    "        y = bernoulli(p)\n",
    "        if y :\n",
    "            sum_ += 1\n",
    "            if sum_ == k:\n",
    "                return sum_\n",
    "        p = (k - sum_) /(N - i)\n",
    "\n",
    "    return sum_\n"
   ]
  },
  {
   "cell_type": "markdown",
   "metadata": {},
   "source": [
    "## Генерация с mcg"
   ]
  },
  {
   "cell_type": "code",
   "execution_count": 6,
   "metadata": {},
   "outputs": [],
   "source": [
    "from math import exp, factorial\n",
    "\n",
    "from lab1.generators import mcg\n",
    "\n",
    "\n",
    "N_uniform = 500000\n",
    "K = 64\n",
    "M = 2 ** 31 - 1\n",
    "C = 1231\n",
    "alpha0 = beta = 16807.0\n"
   ]
  },
  {
   "cell_type": "code",
   "execution_count": 14,
   "metadata": {},
   "outputs": [],
   "source": [
    "#uniform = mcg(alpha0, beta, M, N_uniform, C)\n",
    "\n",
    "def bernoulli(p):\n",
    "    q = 1 - p\n",
    "    x =random() > q\n",
    "    return x\n",
    "\n",
    "    \n",
    "def get_next_hyper_geom(D, N, n):\n",
    "    \"\"\"\n",
    "    D - white balls\n",
    "    N - total num of balls\n",
    "    n - drawn\n",
    "    \"\"\"\n",
    "    sum_ = 0\n",
    "    p = D / N\n",
    "\n",
    "    for i in range(1, n + 1):\n",
    "        y = bernoulli(p)\n",
    "        if y:\n",
    "            sum_ += 1\n",
    "            if sum_ == D:\n",
    "                return sum_\n",
    "        p = (D - sum_) / (N - i)\n",
    "\n",
    "    return sum_\n",
    "\n",
    "\n",
    "def HG(D, N, n, observed):\n",
    "    \"\"\"\n",
    "    Hypergeometric binomial distribution\n",
    "    \"\"\"\n",
    "\n",
    "    for i in range(observed):\n",
    "        yield get_next_hyper_geom(D, N, n)\n",
    "        "
   ]
  },
  {
   "cell_type": "markdown",
   "metadata": {},
   "source": [
    "### количество экспериментов  500\n",
    "###  параметры :\n",
    "- D = 200 # черных шаров\n",
    "- N = 600 # число всех шаром - и черных и белых\n",
    "- n = 300 # число вытаскиваний "
   ]
  },
  {
   "cell_type": "code",
   "execution_count": 67,
   "metadata": {
    "scrolled": false
   },
   "outputs": [],
   "source": [
    "\n",
    "def report(D ,N,n,tryings):\n",
    "    gen_numbers = list(HG(D, N, n, tryings))\n",
    "\n",
    "\n",
    "\n",
    "    theory_freq = list(hyper_geom_list(D,N,n).values())\n",
    "    theory_num = [int(elem * tryings) for elem in theory_freq ]\n",
    "    \n",
    "    observed_frequences = np.bincount(gen_numbers,minlength = len(theory_freq))\n",
    "    observed_frequences = [elem for elem in observed_frequences if elem != 0]\n",
    "    \n",
    "    hist, bin_edges = np.histogram(gen_numbers, density=True)\n",
    "\n",
    "    x = max(len(observed_frequences), len(theory_num))\n",
    "    pylab.bar( range(x), observed_frequences, color = 'r', label = 'observed', alpha = 0.5)\n",
    "    pylab.bar( range(x), theory_num, color = 'black', label = 'theory', alpha= 0.5)\n",
    "    pylab.legend()\n",
    "    pylab.show()\n",
    "\n",
    "\n",
    "    mean_theory = n*D/N\n",
    "    var_theory = n*(D/N)*(1-D/N)*(N-n)/(N-1)\n",
    "\n",
    "    print('mean theory:\\t',mean_theory,'\\nmean real:\\t',bias_mean(gen_numbers),\n",
    "         '\\neps:\\t',abs(bias_mean(gen_numbers)-mean_theory),'\\n')\n",
    "    print('var theory:\\t',var_theory,'\\nvar real:\\t',bias_var(gen_numbers),\n",
    "         '\\neps:\\t',abs(bias_var(gen_numbers)-var_theory),'\\n')\n",
    "    \n",
    "    \n",
    "   # print('chi-sq',stats.chisquare(observed_frequences, theory_num))"
   ]
  },
  {
   "cell_type": "code",
   "execution_count": 75,
   "metadata": {},
   "outputs": [],
   "source": [
    "\n",
    "def report(D ,N,n,tryings):\n",
    "    gen_numbers = list(HG(D, N, n, tryings))\n",
    "    theory_freq = list(hyper_geom_list(D,N,n).values())\n",
    "\n",
    "    keys = hyper_geom_list(D,N,n).keys()\n",
    "    \n",
    "    observed_frequences, bin_edges = np.histogram(gen_numbers, bins = len(keys), density=True)\n",
    "\n",
    "    x = len(observed_frequences)\n",
    "    pylab.bar( range(x), observed_frequences, color = 'r', label = 'observed', alpha = 0.5)\n",
    "    pylab.bar( range(x), theory_freq, color = 'black', label = 'theory', alpha= 0.5)\n",
    "    pylab.legend()\n",
    "    pylab.show()\n",
    "\n",
    "\n",
    "    mean_theory = n*D/N\n",
    "    var_theory = n*(D/N)*(1-D/N)*(N-n)/(N-1)\n",
    "\n",
    "    print('mean theory:\\t',mean_theory,'\\nmean real:\\t',bias_mean(gen_numbers),\n",
    "         '\\neps:\\t',abs(bias_mean(gen_numbers)-mean_theory),'\\n')\n",
    "    print('var theory:\\t',var_theory,'\\nvar real:\\t',bias_var(gen_numbers),\n",
    "         '\\neps:\\t',abs(bias_var(gen_numbers)-var_theory),'\\n')\n",
    "    \n",
    "    \n",
    "   # print('chi-sq',stats.chisquare(observed_frequences, theory_num))"
   ]
  },
  {
   "cell_type": "code",
   "execution_count": 90,
   "metadata": {
    "scrolled": false
   },
   "outputs": [
    {
     "data": {
      "image/png": "[encoded data removed]",
      "text/plain": [
       "<Figure size 432x288 with 1 Axes>"
      ]
     },
     "metadata": {},
     "output_type": "display_data"
    },
    {
     "name": "stdout",
     "output_type": "stream",
     "text": [
      "mean theory:\t 5.0 \n",
      "mean real:\t 4.9948 \n",
      "eps:\t 0.0052000000000003155 \n",
      "\n",
      "var theory:\t 2.272727272727273 \n",
      "var real:\t 2.294031766353273 \n",
      "eps:\t 0.021304493626000287 \n",
      "\n"
     ]
    },
    {
     "data": {
      "image/png": "[encoded data removed]",
      "text/plain": [
       "<Figure size 432x288 with 1 Axes>"
      ]
     },
     "metadata": {},
     "output_type": "display_data"
    },
    {
     "name": "stdout",
     "output_type": "stream",
     "text": [
      "mean theory:\t 10.0 \n",
      "mean real:\t 10.0102 \n",
      "eps:\t 0.01019999999999932 \n",
      "\n",
      "var theory:\t 4.040404040404041 \n",
      "var real:\t 3.9272814162832823 \n",
      "eps:\t 0.11312262412075835 \n",
      "\n"
     ]
    },
    {
     "data": {
      "image/png": "[encoded data removed]",
      "text/plain": [
       "<Figure size 432x288 with 1 Axes>"
      ]
     },
     "metadata": {},
     "output_type": "display_data"
    },
    {
     "name": "stdout",
     "output_type": "stream",
     "text": [
      "mean theory:\t 15.0 \n",
      "mean real:\t 15.0128 \n",
      "eps:\t 0.012800000000000367 \n",
      "\n",
      "var theory:\t 5.303030303030303 \n",
      "var real:\t 5.282092578515808 \n",
      "eps:\t 0.020937724514494604 \n",
      "\n"
     ]
    },
    {
     "data": {
      "image/png": "[encoded data removed]",
      "text/plain": [
       "<Figure size 432x288 with 1 Axes>"
      ]
     },
     "metadata": {},
     "output_type": "display_data"
    },
    {
     "name": "stdout",
     "output_type": "stream",
     "text": [
      "mean theory:\t 20.0 \n",
      "mean real:\t 20.0266 \n",
      "eps:\t 0.026599999999998403 \n",
      "\n",
      "var theory:\t 6.0606060606060606 \n",
      "var real:\t 6.138720184036834 \n",
      "eps:\t 0.0781141234307734 \n",
      "\n"
     ]
    },
    {
     "data": {
      "image/png": "[encoded data removed]",
      "text/plain": [
       "<Figure size 432x288 with 1 Axes>"
      ]
     },
     "metadata": {},
     "output_type": "display_data"
    },
    {
     "name": "stdout",
     "output_type": "stream",
     "text": [
      "mean theory:\t 25.0 \n",
      "mean real:\t 25.022 \n",
      "eps:\t 0.021999999999998465 \n",
      "\n",
      "var theory:\t 6.313131313131313 \n",
      "var real:\t 6.392794558911619 \n",
      "eps:\t 0.07966324578030548 \n",
      "\n"
     ]
    },
    {
     "data": {
      "image/png": "[encoded data removed]",
      "text/plain": [
       "<Figure size 432x288 with 1 Axes>"
      ]
     },
     "metadata": {},
     "output_type": "display_data"
    },
    {
     "name": "stdout",
     "output_type": "stream",
     "text": [
      "mean theory:\t 30.0 \n",
      "mean real:\t 30.0396 \n",
      "eps:\t 0.03960000000000008 \n",
      "\n",
      "var theory:\t 6.0606060606060606 \n",
      "var real:\t 6.121256091218486 \n",
      "eps:\t 0.060650030612425354 \n",
      "\n"
     ]
    },
    {
     "data": {
      "image/png": "[encoded data removed]",
      "text/plain": [
       "<Figure size 432x288 with 1 Axes>"
      ]
     },
     "metadata": {},
     "output_type": "display_data"
    },
    {
     "name": "stdout",
     "output_type": "stream",
     "text": [
      "mean theory:\t 35.0 \n",
      "mean real:\t 35.0418 \n",
      "eps:\t 0.04180000000000206 \n",
      "\n",
      "var theory:\t 5.303030303030303 \n",
      "var real:\t 5.483149389878028 \n",
      "eps:\t 0.18011908684772493 \n",
      "\n"
     ]
    },
    {
     "data": {
      "image/png": "[encoded data removed]",
      "text/plain": [
       "<Figure size 432x288 with 1 Axes>"
      ]
     },
     "metadata": {},
     "output_type": "display_data"
    },
    {
     "name": "stdout",
     "output_type": "stream",
     "text": [
      "mean theory:\t 40.0 \n",
      "mean real:\t 39.978 \n",
      "eps:\t 0.021999999999998465 \n",
      "\n",
      "var theory:\t 4.040404040404041 \n",
      "var real:\t 3.9423044608921622 \n",
      "eps:\t 0.09809957951187842 \n",
      "\n"
     ]
    },
    {
     "data": {
      "image/png": "[encoded data removed]",
      "text/plain": [
       "<Figure size 432x288 with 1 Axes>"
      ]
     },
     "metadata": {},
     "output_type": "display_data"
    },
    {
     "name": "stdout",
     "output_type": "stream",
     "text": [
      "mean theory:\t 45.0 \n",
      "mean real:\t 44.9796 \n",
      "eps:\t 0.020400000000002194 \n",
      "\n",
      "var theory:\t 2.272727272727273 \n",
      "var real:\t 2.257235287057464 \n",
      "eps:\t 0.015491985669808805 \n",
      "\n"
     ]
    }
   ],
   "source": [
    "for i in range(10,100,10):\n",
    "    print('количество вытягиваний'б i)\n",
    "    report(D = 50 ,N = 100,n = i, tryings = 5000)"
   ]
  },
  {
   "cell_type": "code",
   "execution_count": 12,
   "metadata": {},
   "outputs": [],
   "source": [
    "from lab1.graph import draw_autocorr,draw_cdf,draw_freq,draw_intervals,draw_scatter"
   ]
  },
  {
   "cell_type": "code",
   "execution_count": 13,
   "metadata": {},
   "outputs": [
    {
     "data": {
      "image/png": "[encoded data removed]",
      "text/plain": [
       "<Figure size 432x288 with 1 Axes>"
      ]
     },
     "metadata": {},
     "output_type": "display_data"
    }
   ],
   "source": [
    "x_1 = [gen_numbers[i] for i in range(tryings) if i%2 == 1]\n",
    "x_2 = [gen_numbers[i] for i in range(tryings) if i%2 == 0]\n",
    "draw_scatter(x_1,x_2)\n",
    "\n"
   ]
  },
  {
   "cell_type": "code",
   "execution_count": 27,
   "metadata": {
    "scrolled": true
   },
   "outputs": [
    {
     "data": {
      "image/png": "[encoded data removed]",
      "text/plain": [
       "<Figure size 432x288 with 1 Axes>"
      ]
     },
     "metadata": {},
     "output_type": "display_data"
    }
   ],
   "source": [
    "def autocorr(x, t=1):\n",
    "    for i in range(0,t):\n",
    "        y = x + [0]*i\n",
    "        y = [ y[j+i] for j in range(len(x)) ]\n",
    "        corr = np.corrcoef([x,y])\n",
    "        yield corr[0][1]\n",
    "\n",
    "corr = list(autocorr(gen_numbers3,t=30))\n",
    "draw_autocorr(corr)"
   ]
  },
  {
   "cell_type": "markdown",
   "metadata": {},
   "source": [
    "## Выводы\n",
    "1. Автокорреляция :\n",
    "при размере выборки 100 очень плохие результаты, при N = 5000 корреляция сходиться к нулю.\n",
    "2.  Точечные оценки : \n",
    "\n",
    "        - mean theory:\t 3.3333333333333335 \n",
    "        - mean real:\t 3.36 \n",
    "        - eps:\t 0.026666666666666394 \n",
    "\n",
    "        - var theory:\t 1.8832391713747647 \n",
    "        - var real:\t 2.071111111111113 \n",
    "        - eps:\t 0.1878719397363482 \n",
    "\n",
    "3. Критерий Пирсона выполнен, pvalue=0.5098265071449051\n",
    "\n"
   ]
  },
  {
   "cell_type": "code",
   "execution_count": null,
   "metadata": {},
   "outputs": [],
   "source": []
  }
 ],
 "metadata": {
  "kernelspec": {
   "display_name": "Python 3",
   "language": "python",
   "name": "python3"
  },
  "language_info": {
   "codemirror_mode": {
    "name": "ipython",
    "version": 3
   },
   "file_extension": ".py",
   "mimetype": "text/x-python",
   "name": "python",
   "nbconvert_exporter": "python",
   "pygments_lexer": "ipython3",
   "version": "3.6.5"
  }
 },
 "nbformat": 4,
 "nbformat_minor": 2
}
