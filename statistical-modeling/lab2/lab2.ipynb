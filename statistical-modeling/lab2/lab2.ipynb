{
 "cells": [
  {
   "cell_type": "markdown",
   "metadata": {},
   "source": [
    "## lab2\n",
    "## task\n",
    "\n",
    "- Осуществить моделирование n = 1000 реализаций СВ из заданных дискретных распределений.\n",
    "- Вывести на экран несмещенные оценки математического ожидания и дисперсии, сравнить их с истинными значениями.\n",
    "- Для каждой из случайных величин построить свой χ^2-критерием Пирсона с уровнем значимость ε=0.05. Проверить, что вероятность ошибки I рода стремится к 0.05.\n",
    "- Осуществить проверку каждой из сгенерированных выборок каждым из построенных критериев.\n",
    "\n",
    "https://ru.wikipedia.org/wiki/%D0%93%D0%B8%D0%BF%D0%B5%D1%80%D0%B3%D0%B5%D0%BE%D0%BC%D0%B5%D1%82%D1%80%D0%B8%D1%87%D0%B5%D1%81%D0%BA%D0%BE%D0%B5_%D1%80%D0%B0%D1%81%D0%BF%D1%80%D0%B5%D0%B4%D0%B5%D0%BB%D0%B5%D0%BD%D0%B8%D0%B5"
   ]
  },
  {
   "cell_type": "code",
   "execution_count": 1,
   "metadata": {},
   "outputs": [],
   "source": [
    "import numpy as np\n",
    "import matplotlib\n",
    "import matplotlib.pyplot as plt\n",
    "%matplotlib inline  \n",
    "import pandas as pd"
   ]
  },
  {
   "cell_type": "code",
   "execution_count": 2,
   "metadata": {},
   "outputs": [],
   "source": [
    "from random import random\n",
    "\n",
    "def bernoulli(p):\n",
    "    boundary = 1-p\n",
    "    return random() > boundary\n",
    "\n",
    "\n",
    "def hyper_geom(N, n, k):\n",
    "    # N all\n",
    "    # n try\n",
    "    # k black\n",
    "    sum_ = 0\n",
    "    p = k/N\n",
    "\n",
    "    for i in range(1, n+1):\n",
    "        y = bernoulli(p)\n",
    "        if y :\n",
    "            sum_ += 1\n",
    "            if sum_ == k:\n",
    "                return sum_\n",
    "        p = (k - sum_) /(N - i)\n",
    "\n",
    "    return sum_\n",
    "\n",
    "\n",
    "\n",
    "N = 500 #all\n",
    "D = 50 # black\n",
    "n = 100 # taken off\n",
    "\n",
    "mean_theory = n*D/N\n",
    "var_theory = n*(D/N)*(1-D/N)*(N-n)/(N-1)\n",
    "\n",
    "\n",
    "gen_numbers = [ hyper_geom(N,n,D) for i in range(1000)]"
   ]
  },
  {
   "cell_type": "markdown",
   "metadata": {},
   "source": [
    "## Генирация "
   ]
  },
  {
   "cell_type": "code",
   "execution_count": 3,
   "metadata": {},
   "outputs": [],
   "source": [
    "from random import random\n",
    "from math import exp, factorial\n",
    "\n",
    "from lab1.generators import mcg\n",
    "\n",
    "\n",
    "def uniform():\n",
    "    N = 500000\n",
    "    K = 64\n",
    "    M = 2 ** 31 - 1\n",
    "    C = 1231\n",
    "    alpha0 = beta = 16807.0\n",
    "    l = list(mcg(alpha0, beta, M, N, C))\n",
    "    for i in range(N):\n",
    "        yield l[i]\n",
    "\n",
    "y = uniform()\n",
    "\n",
    "def bernoulli(p):\n",
    "    boundary = 1 - p\n",
    "    x = y.__next__() > boundary\n",
    "    return x\n",
    "\n",
    "\n",
    "def get_next_hyper_geom(D, N, n):\n",
    "    sum_ = 0\n",
    "    p = D / N\n",
    "\n",
    "    for i in range(1, n + 1):\n",
    "        y = bernoulli(p)\n",
    "        if y:\n",
    "            sum_ += 1\n",
    "            if sum_ == D:\n",
    "                return sum_\n",
    "        p = (D - sum_) / (N - i)\n",
    "\n",
    "    return sum_\n",
    "\n",
    "\n",
    "def HG(D, N, n, observed):\n",
    "    \"\"\"\n",
    "    Hypergeometric binomial distribution\n",
    "    \"\"\"\n",
    "    for i in range(observed):\n",
    "        yield get_next_hyper_geom(D, N, n)\n",
    "\n",
    "\n",
    "def C(n, k):\n",
    "    return factorial(n) / (factorial(k) * factorial(n - k))\n",
    "\n",
    "\n",
    "def hyper_geom_distribution(D, N, n, k):\n",
    "    return C(D, k) * C(N - D, n - k) / C(N, n)\n",
    "\n",
    "\n",
    "def hyper_geom_dstr(D, N, n):\n",
    "    p = [hyper_geom_distribution(D, N, n, i) for i in range(max(0, D + n - N), min(n, D))]\n",
    "\n",
    "    keys = [elem for elem in range(max(0, D + n - N), min(n, D))]\n",
    "\n",
    "    return dict(zip(keys,p))"
   ]
  },
  {
   "cell_type": "code",
   "execution_count": 38,
   "metadata": {},
   "outputs": [],
   "source": [
    "D = 10 # черных шаров\n",
    "N = 60 # число всех шаром - и черных и белых\n",
    "n = 20 # число вытаскиваний \n",
    "tryings = 5000\n",
    "mean_theory = n*D/N\n",
    "var_theory = n*(D/N)*(1-D/N)*(N-n)/(N-1)\n",
    "\n",
    "gen_numbers = list(HG(D, N, n, tryings))\n",
    "\n",
    "theory_freq = hyper_geom_dstr(D,N,n)"
   ]
  },
  {
   "cell_type": "code",
   "execution_count": 42,
   "metadata": {},
   "outputs": [
    {
     "data": {
      "image/png": "[encoded data removed]",
      "text/plain": [
       "<Figure size 360x216 with 1 Axes>"
      ]
     },
     "metadata": {},
     "output_type": "display_data"
    }
   ],
   "source": [
    "def draw(real,theory):\n",
    "    plt.figure(figsize=(5,3))\n",
    "    keys = list(theory.keys())\n",
    "    plt.hist(x=real, label='real', bins=len(keys) , color='blue',alpha=0.4, rwidth=0.85)\n",
    "    \n",
    "    x = [elem*tryings for elem in theory.values()]\n",
    "    plt.plot(x,label='theory', color='pink',alpha=0.99)\n",
    "    plt.xlabel('x', fontsize=10)\n",
    "    plt.ylabel('frequency', fontsize=10)\n",
    "    plt.text(2, 4, r'...')\n",
    "    plt.legend()\n",
    "    plt.show()\n",
    "    \n",
    "draw(gen_numbers,theory_freq)"
   ]
  },
  {
   "cell_type": "code",
   "execution_count": 44,
   "metadata": {},
   "outputs": [],
   "source": [
    "# n_i theory > =5  объед.интервалы"
   ]
  },
  {
   "cell_type": "markdown",
   "metadata": {},
   "source": [
    "## Критерий Пирсона"
   ]
  },
  {
   "cell_type": "code",
   "execution_count": 33,
   "metadata": {},
   "outputs": [
    {
     "name": "stdout",
     "output_type": "stream",
     "text": [
      "\n",
      "pearson, chi:\n",
      "\tmcg:\tk = 10 | 3.253 < 16.919 | test passed \n"
     ]
    }
   ],
   "source": [
    "from lab1.tests import pearson\n",
    "from lab1.utils import format_test_result\n",
    "\n",
    "gen_numbers_result = pearson(sorted(gen_numbers),  discrete=True, p_list = p)\n",
    "\n",
    "print('\\npearson, chi:')\n",
    "print('\\tmcg:\\t' + format_test_result(*gen_numbers_result))"
   ]
  },
  {
   "cell_type": "markdown",
   "metadata": {},
   "source": [
    "## Несмещенные оценки"
   ]
  },
  {
   "cell_type": "code",
   "execution_count": 34,
   "metadata": {},
   "outputs": [
    {
     "name": "stdout",
     "output_type": "stream",
     "text": [
      "mean theory:\t 3.3333333333333335 \n",
      "mean real:\t 3.3394 \n",
      "eps:\t 0.006066666666666443 \n",
      "\n",
      "var theory:\t 1.8832391713747647 \n",
      "var real:\t 1.9133903180636045 \n",
      "eps:\t 0.03015114668883978 \n",
      "\n"
     ]
    }
   ],
   "source": [
    "def bias_mean(x):\n",
    "    return sum(x)/len(x)\n",
    "    \n",
    "def bias_var(x):\n",
    "    bias_m = bias_mean(x)\n",
    "    sum_=0\n",
    "    for elem in x:\n",
    "        sum_ += (elem - bias_m )**2\n",
    "    return sum_/ (len(x)-1)\n",
    "\n",
    "\n",
    "print('mean theory:\\t',mean_theory,'\\nmean real:\\t',bias_mean(gen_numbers),\n",
    "     '\\neps:\\t',abs(bias_mean(gen_numbers)-mean_theory),'\\n')\n",
    "print('var theory:\\t',var_theory,'\\nvar real:\\t',bias_var(gen_numbers),\n",
    "     '\\neps:\\t',abs(bias_var(gen_numbers)-var_theory),'\\n')"
   ]
  },
  {
   "cell_type": "code",
   "execution_count": 35,
   "metadata": {},
   "outputs": [],
   "source": [
    "from lab1.graph import draw_autocorr,draw_cdf,draw_freq,draw_intervals,draw_scatter"
   ]
  },
  {
   "cell_type": "code",
   "execution_count": 36,
   "metadata": {},
   "outputs": [
    {
     "data": {
      "image/png": "[encoded data removed]",
      "text/plain": [
       "<Figure size 432x288 with 1 Axes>"
      ]
     },
     "metadata": {},
     "output_type": "display_data"
    }
   ],
   "source": [
    "x_1 = [gen_numbers[i] for i in range(tryings) if i%2 == 1]\n",
    "x_2 = [gen_numbers[i] for i in range(tryings) if i%2 == 0]\n",
    "draw_scatter(x_1,x_2)\n",
    "\n"
   ]
  },
  {
   "cell_type": "code",
   "execution_count": 37,
   "metadata": {},
   "outputs": [
    {
     "data": {
      "image/png": "[encoded data removed]",
      "text/plain": [
       "<Figure size 432x288 with 1 Axes>"
      ]
     },
     "metadata": {},
     "output_type": "display_data"
    }
   ],
   "source": [
    "def autocorr(x, t=1):\n",
    "    for i in range(0,t):\n",
    "        y = x + [0]*i\n",
    "        y = [ y[j+i] for j in range(len(x)) ]\n",
    "        corr = np.corrcoef([x,y])\n",
    "        yield corr[0][1]\n",
    "\n",
    "corr = list(autocorr(gen_numbers,t=30))\n",
    "draw_autocorr(corr)"
   ]
  },
  {
   "cell_type": "code",
   "execution_count": null,
   "metadata": {},
   "outputs": [],
   "source": [
    "# при 100 плохая автокорреляция\n",
    "# при 5000 намного лучше"
   ]
  }
 ],
 "metadata": {
  "kernelspec": {
   "display_name": "Python 3",
   "language": "python",
   "name": "python3"
  },
  "language_info": {
   "codemirror_mode": {
    "name": "ipython",
    "version": 3
   },
   "file_extension": ".py",
   "mimetype": "text/x-python",
   "name": "python",
   "nbconvert_exporter": "python",
   "pygments_lexer": "ipython3",
   "version": "3.6.5"
  }
 },
 "nbformat": 4,
 "nbformat_minor": 2
}
