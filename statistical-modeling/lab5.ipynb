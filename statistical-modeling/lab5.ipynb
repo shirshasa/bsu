{
 "cells": [
  {
   "cell_type": "code",
   "execution_count": 15,
   "metadata": {},
   "outputs": [],
   "source": [
    "import random\n"
   ]
  },
  {
   "cell_type": "code",
   "execution_count": 16,
   "metadata": {},
   "outputs": [],
   "source": [
    "n = 2\n",
    "x =0\n",
    "y =0\n",
    "\n",
    "a = [[-0.1, 0.8],\n",
    "     [0.4, -0.1]]\n",
    "\n",
    "f = [0.1, -0.2]# правая часть системы\n",
    "\n",
    "h = [1, 0]\n",
    "pi =[0.5, 0.5 ] # вектор начальных состояний ЦМ\n",
    "p = [[0.5, 0.5],\n",
    "     [0.5, 0.5]] # матрица переходных состояний\n",
    "\n",
    "N = 1000   # длина цепи маркова\n",
    "i = [0] * (N + 1)     # цепь маркова\n",
    "Q = [0] * (N + 1)     # веса состояний ЦМ\n",
    "\n",
    "m = 10000 # количество реализаций ЦМ\n",
    "ksi = [0] * m  # СВ\n",
    "alpha = None   # БСВ"
   ]
  },
  {
   "cell_type": "markdown",
   "metadata": {},
   "source": [
    "### моделируем m ЦМ"
   ]
  },
  {
   "cell_type": "code",
   "execution_count": 17,
   "metadata": {},
   "outputs": [],
   "source": [
    "def calc():\n",
    "    for j in range(m):\n",
    "        alpha = random.random()\n",
    "        if alpha < pi[0] :\n",
    "            i[0] = 0\n",
    "        else:\n",
    "            i[0] = 1\n",
    "        for k in range(1,N + 1):\n",
    "            alpha = random.random()\n",
    "            if alpha < 0.5 : i[k] = 0\n",
    "            else:\n",
    "                i[k] = 1\n",
    "        '''\n",
    "        вычисляем веса ЦМ\n",
    "        ''' \n",
    "        if pi[i[0]] > 0 :\n",
    "            Q[0] = h[i[0]] / pi[i[0]]\n",
    "        else:\n",
    "            Q[0] = 0\n",
    "        for k in range(1,N + 1) :\n",
    "            if p[i[k-1]][i[k]] > 0:\n",
    "                Q[k] = Q[k-1] * a[i[k-1]][i[k]] / p[i[k-1]][i[k]]\n",
    "            else:\n",
    "                Q[k] = 0\n",
    "\n",
    "        for k in range(0,N + 1):\n",
    "            ksi[j] = ksi[j] + Q[k] * f[i[k]]\n",
    "\n",
    "            \n",
    "        "
   ]
  },
  {
   "cell_type": "markdown",
   "metadata": {},
   "source": [
    "### вычисляем вектор x"
   ]
  },
  {
   "cell_type": "code",
   "execution_count": 18,
   "metadata": {},
   "outputs": [],
   "source": [
    "calc()\n",
    "\n",
    "for k in range(0,m):\n",
    "    x = x + ksi[k]\n",
    "\n",
    "x = x/m"
   ]
  },
  {
   "cell_type": "code",
   "execution_count": 22,
   "metadata": {
    "scrolled": false
   },
   "outputs": [
    {
     "name": "stdout",
     "output_type": "stream",
     "text": [
      "точное решение:  -0.056179775280898875\n",
      "приближенное:  -0.05772279959740287\n",
      "погрешность:  -0.0015430243165039936\n"
     ]
    }
   ],
   "source": [
    "print('точное решение: ', -5/89)\n",
    "print('приближенное: ', x)\n",
    "print('погрешность: ', x + 5/89)"
   ]
  },
  {
   "cell_type": "markdown",
   "metadata": {},
   "source": [
    "### вычисляем вектор y"
   ]
  },
  {
   "cell_type": "code",
   "execution_count": 20,
   "metadata": {},
   "outputs": [],
   "source": [
    "h = [0, 1]\n",
    "calc()\n",
    "\n",
    "for k in range(0,m):\n",
    "    y = y + ksi[k]\n",
    "\n",
    "y = y/m"
   ]
  },
  {
   "cell_type": "code",
   "execution_count": 23,
   "metadata": {},
   "outputs": [
    {
     "name": "stdout",
     "output_type": "stream",
     "text": [
      "точное решение:  -0.20224719101123595\n",
      "приближенное:  -0.26132370823621287\n",
      "погрешность:  -0.05907651722497692\n"
     ]
    }
   ],
   "source": [
    "print('точное решение: ', -18/89)\n",
    "print('приближенное: ', y)\n",
    "print('погрешность: ', y + 18/89)"
   ]
  },
  {
   "cell_type": "code",
   "execution_count": null,
   "metadata": {},
   "outputs": [],
   "source": []
  }
 ],
 "metadata": {
  "kernelspec": {
   "display_name": "Python 3",
   "language": "python",
   "name": "python3"
  },
  "language_info": {
   "codemirror_mode": {
    "name": "ipython",
    "version": 3
   },
   "file_extension": ".py",
   "mimetype": "text/x-python",
   "name": "python",
   "nbconvert_exporter": "python",
   "pygments_lexer": "ipython3",
   "version": "3.6.5"
  }
 },
 "nbformat": 4,
 "nbformat_minor": 2
}
